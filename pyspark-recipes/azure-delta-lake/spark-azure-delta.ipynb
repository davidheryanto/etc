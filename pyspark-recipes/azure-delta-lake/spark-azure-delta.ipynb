{
 "cells": [
  {
   "cell_type": "code",
   "execution_count": null,
   "id": "09180a19-deae-4fc0-b0b4-acca9839ff23",
   "metadata": {},
   "outputs": [],
   "source": [
    "# Dataset reference:\n",
    "# https://learn.microsoft.com/en-us/azure/open-datasets/dataset-taxi-yellow?tabs=pyspark"
   ]
  },
  {
   "cell_type": "code",
   "execution_count": null,
   "id": "1a02f647-0c15-420e-a0b4-ae6159432b07",
   "metadata": {},
   "outputs": [],
   "source": [
    "if \"spark\" not in globals():\n",
    "    from pyspark.sql import SparkSession\n",
    "    packages = [\n",
    "        \"io.delta:delta-spark_2.12:3.2.0\",\n",
    "        \"org.apache.hadoop:hadoop-azure:3.2.4\",\n",
    "    ]\n",
    "    spark = (\n",
    "        SparkSession.builder\n",
    "        .config(\"spark.jars.packages\", \",\".join(packages))\n",
    "        .config(\"spark.sql.extensions\", \"io.delta.sql.DeltaSparkSessionExtension\")\n",
    "        .config(\"spark.sql.catalog.spark_catalog\", \"org.apache.spark.sql.delta.catalog.DeltaCatalog\")\n",
    "        # Example resource configuration\n",
    "        .config(\"spark.driver.memory\", \"16g\")\n",
    "        .config(\"spark.driver.maxResultSize\", \"8g\")\n",
    "        .config(\"spark.executor.memory\", \"16g\")\n",
    "        .getOrCreate()\n",
    "    )"
   ]
  },
  {
   "cell_type": "code",
   "execution_count": null,
   "id": "060e9c78-be85-487a-9dcd-ae02ec90b67a",
   "metadata": {},
   "outputs": [],
   "source": [
    "# Example time zone setting, if required\n",
    "spark.sql(\"set time zone 'Asia/Singapore'\")"
   ]
  },
  {
   "cell_type": "code",
   "execution_count": null,
   "id": "a0723796-3e1d-453e-b9b2-892ac43e7270",
   "metadata": {},
   "outputs": [],
   "source": [
    "blob_account_name = \"azureopendatastorage\"\n",
    "blob_container_name = \"nyctlc\"\n",
    "blob_relative_path = \"yellow\"\n",
    "blob_sas_token = \"r\"\n",
    "\n",
    "wasbs_path = f\"wasbs://{blob_container_name}@{blob_account_name}.blob.core.windows.net/{blob_relative_path}\"\n",
    "print(wasbs_path)"
   ]
  },
  {
   "cell_type": "code",
   "execution_count": null,
   "id": "d1f05ce1-c8ee-4d83-af76-170ee60f4a63",
   "metadata": {},
   "outputs": [],
   "source": [
    "df = spark.read.format(\"parquet\").load(wasbs_path)\n",
    "df.printSchema()"
   ]
  },
  {
   "cell_type": "code",
   "execution_count": null,
   "id": "b3ba33b0-c45d-4c25-97c9-36c2120c3781",
   "metadata": {},
   "outputs": [],
   "source": [
    "from rich.pretty import pprint\n",
    "# Check the partitions and files\n",
    "pprint(sorted(df.inputFiles(), reverse=True), max_length=5)"
   ]
  },
  {
   "cell_type": "code",
   "execution_count": null,
   "id": "2c49aba8-186b-4972-96b9-ccd601ff42dc",
   "metadata": {},
   "outputs": [],
   "source": [
    "from pyspark.sql.functions import *\n",
    "pprint(df.filter(col(\"puYear\") == 2088).toPandas().to_dict(\"records\"), max_length=10)"
   ]
  },
  {
   "cell_type": "code",
   "execution_count": null,
   "id": "236fb191-8afc-48f2-a04c-5635809832e3",
   "metadata": {},
   "outputs": [],
   "source": [
    "import tempfile\n",
    "# Save as Delta format in temporary directory\n",
    "tmpdir = tempfile.mkdtemp()"
   ]
  },
  {
   "cell_type": "code",
   "execution_count": null,
   "id": "1b4589fd-9076-47fb-a435-6579df493385",
   "metadata": {},
   "outputs": [],
   "source": [
    "tmpdir"
   ]
  },
  {
   "cell_type": "code",
   "execution_count": null,
   "id": "67b4134c-2c40-4dfa-a6e1-f5d55c77d23a",
   "metadata": {},
   "outputs": [],
   "source": [
    "# Write as Delta Table\n",
    "df.filter(col(\"puYear\") >= 2084).write.format(\"delta\").save(tmpdir)"
   ]
  },
  {
   "cell_type": "code",
   "execution_count": null,
   "id": "a0e5ccc3-f729-4a2b-bed5-4f1582c675b2",
   "metadata": {},
   "outputs": [],
   "source": [
    "df_delta = spark.read.format(\"delta\").load(tmpdir)\n",
    "df_delta.printSchema()\n",
    "df_delta.count()"
   ]
  },
  {
   "cell_type": "code",
   "execution_count": null,
   "id": "03d380e8-3ed5-4b05-8070-1abd12892ea0",
   "metadata": {},
   "outputs": [],
   "source": [
    "pprint(df_delta.limit(50).toPandas().to_dict(\"records\"), max_length=5)"
   ]
  },
  {
   "cell_type": "code",
   "execution_count": null,
   "id": "5b0b4c72-16cf-4eac-aa6a-56d3a50c31cb",
   "metadata": {},
   "outputs": [],
   "source": []
  }
 ],
 "metadata": {
  "kernelspec": {
   "display_name": "Python 3 (ipykernel)",
   "language": "python",
   "name": "python3"
  },
  "language_info": {
   "codemirror_mode": {
    "name": "ipython",
    "version": 3
   },
   "file_extension": ".py",
   "mimetype": "text/x-python",
   "name": "python",
   "nbconvert_exporter": "python",
   "pygments_lexer": "ipython3"
  }
 },
 "nbformat": 4,
 "nbformat_minor": 5
}
