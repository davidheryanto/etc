{
 "cells": [
  {
   "cell_type": "code",
   "execution_count": 1,
   "metadata": {
    "execution": {
     "iopub.execute_input": "2020-11-06T09:07:08.434408Z",
     "iopub.status.busy": "2020-11-06T09:07:08.434176Z",
     "iopub.status.idle": "2020-11-06T09:07:08.437489Z",
     "shell.execute_reply": "2020-11-06T09:07:08.436850Z",
     "shell.execute_reply.started": "2020-11-06T09:07:08.434382Z"
    }
   },
   "outputs": [],
   "source": [
    "import pyspark\n",
    "import random"
   ]
  },
  {
   "cell_type": "code",
   "execution_count": 3,
   "metadata": {
    "execution": {
     "iopub.execute_input": "2020-11-06T09:11:04.608956Z",
     "iopub.status.busy": "2020-11-06T09:11:04.608732Z",
     "iopub.status.idle": "2020-11-06T09:11:04.613859Z",
     "shell.execute_reply": "2020-11-06T09:11:04.613184Z",
     "shell.execute_reply.started": "2020-11-06T09:11:04.608931Z"
    }
   },
   "outputs": [
    {
     "data": {
      "text/plain": [
       "<pyspark.conf.SparkConf at 0x7fde721dc610>"
      ]
     },
     "execution_count": 3,
     "metadata": {},
     "output_type": "execute_result"
    }
   ],
   "source": [
    "conf = pyspark.SparkConf()\n",
    "conf.setAll([\n",
    "    (\"spark.kubernetes.container.image\",\"localhost:5000/kubernetes-spark/spark-py:v1\"),\n",
    "    (\"spark.executor.instances\", 2)\n",
    "])"
   ]
  },
  {
   "cell_type": "code",
   "execution_count": 2,
   "metadata": {
    "execution": {
     "iopub.execute_input": "2020-11-06T09:10:50.816973Z",
     "iopub.status.busy": "2020-11-06T09:10:50.816740Z",
     "iopub.status.idle": "2020-11-06T09:10:51.003508Z",
     "shell.execute_reply": "2020-11-06T09:10:51.002607Z",
     "shell.execute_reply.started": "2020-11-06T09:10:50.816948Z"
    }
   },
   "outputs": [
    {
     "name": "stdout",
     "output_type": "stream",
     "text": [
      "\u001b[0;32mKubernetes master\u001b[0m is running at \u001b[0;33mhttps://127.0.0.1:43831\u001b[0m\n",
      "\u001b[0;32mKubeDNS\u001b[0m is running at \u001b[0;33mhttps://127.0.0.1:43831/api/v1/namespaces/kube-system/services/kube-dns:dns/proxy\u001b[0m\n",
      "\n",
      "To further debug and diagnose cluster problems, use 'kubectl cluster-info dump'.\n"
     ]
    }
   ],
   "source": [
    "!kubectl cluster-info"
   ]
  },
  {
   "cell_type": "code",
   "execution_count": 4,
   "metadata": {
    "execution": {
     "iopub.execute_input": "2020-11-06T09:13:33.168320Z",
     "iopub.status.busy": "2020-11-06T09:13:33.168083Z",
     "iopub.status.idle": "2020-11-06T09:13:51.774059Z",
     "shell.execute_reply": "2020-11-06T09:13:51.772974Z",
     "shell.execute_reply.started": "2020-11-06T09:13:33.168294Z"
    }
   },
   "outputs": [
    {
     "data": {
      "text/html": [
       "\n",
       "        <div>\n",
       "            <p><b>SparkContext</b></p>\n",
       "\n",
       "            <p><a href=\"http://192.168.1.200:4041\">Spark UI</a></p>\n",
       "\n",
       "            <dl>\n",
       "              <dt>Version</dt>\n",
       "                <dd><code>v3.0.1</code></dd>\n",
       "              <dt>Master</dt>\n",
       "                <dd><code>k8s://https://127.0.0.1:43831</code></dd>\n",
       "              <dt>AppName</dt>\n",
       "                <dd><code>Pi</code></dd>\n",
       "            </dl>\n",
       "        </div>\n",
       "        "
      ],
      "text/plain": [
       "<SparkContext master=k8s://https://127.0.0.1:43831 appName=Pi>"
      ]
     },
     "execution_count": 4,
     "metadata": {},
     "output_type": "execute_result"
    }
   ],
   "source": [
    "# Replace \"master\" argument with the value from cluster-info\n",
    "\n",
    "sc = pyspark.SparkContext(\n",
    "    master=\"k8s://https://127.0.0.1:43831\",\n",
    "    appName=\"Pi\",\n",
    "    conf=conf,\n",
    ")\n",
    "sc"
   ]
  },
  {
   "cell_type": "code",
   "execution_count": 5,
   "metadata": {
    "execution": {
     "iopub.execute_input": "2020-11-06T09:13:54.867716Z",
     "iopub.status.busy": "2020-11-06T09:13:54.867375Z",
     "iopub.status.idle": "2020-11-06T09:13:55.049710Z",
     "shell.execute_reply": "2020-11-06T09:13:55.048942Z",
     "shell.execute_reply.started": "2020-11-06T09:13:54.867678Z"
    }
   },
   "outputs": [
    {
     "name": "stdout",
     "output_type": "stream",
     "text": [
      "NAME                         READY   STATUS    RESTARTS   AGE\n",
      "pi-21590c759cd52609-exec-1   1/1     Running   0          17s\n",
      "pi-21590c759cd52609-exec-2   1/1     Running   0          17s\n"
     ]
    }
   ],
   "source": [
    "!kubectl get pods"
   ]
  },
  {
   "cell_type": "code",
   "execution_count": 6,
   "metadata": {
    "execution": {
     "iopub.execute_input": "2020-11-06T09:14:21.469260Z",
     "iopub.status.busy": "2020-11-06T09:14:21.469031Z",
     "iopub.status.idle": "2020-11-06T09:14:50.634574Z",
     "shell.execute_reply": "2020-11-06T09:14:50.633829Z",
     "shell.execute_reply.started": "2020-11-06T09:14:21.469234Z"
    }
   },
   "outputs": [
    {
     "name": "stdout",
     "output_type": "stream",
     "text": [
      "3.14145632\n"
     ]
    }
   ],
   "source": [
    "def inside(p):     \n",
    "  x, y = random.random(), random.random()\n",
    "  return x*x + y*y < 1\n",
    "\n",
    "num_samples = 100000000\n",
    "count = sc.parallelize(range(0, num_samples)).filter(inside).count()\n",
    "pi = 4 * count / num_samples\n",
    "\n",
    "print(pi)"
   ]
  }
 ],
 "metadata": {
  "kernelspec": {
   "display_name": "Python 3",
   "language": "python",
   "name": "python3"
  },
  "language_info": {
   "codemirror_mode": {
    "name": "ipython",
    "version": 3
   },
   "file_extension": ".py",
   "mimetype": "text/x-python",
   "name": "python",
   "nbconvert_exporter": "python",
   "pygments_lexer": "ipython3",
   "version": "3.7.7"
  }
 },
 "nbformat": 4,
 "nbformat_minor": 4
}
