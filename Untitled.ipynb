{
 "cells": [
  {
   "cell_type": "code",
   "execution_count": 15,
   "metadata": {
    "collapsed": false
   },
   "outputs": [],
   "source": [
    "import numpy as np\n",
    "import random\n",
    "import pymssql"
   ]
  },
  {
   "cell_type": "code",
   "execution_count": 27,
   "metadata": {
    "collapsed": false
   },
   "outputs": [
    {
     "data": {
      "text/plain": [
       "<pymssql.Connection at 0x43f91c8>"
      ]
     },
     "execution_count": 27,
     "metadata": {},
     "output_type": "execute_result"
    }
   ],
   "source": [
    "pymssql.connect(server='localhost',user='admin',password='Rie>#6Jim9mv')"
   ]
  },
  {
   "cell_type": "code",
   "execution_count": 5,
   "metadata": {
    "collapsed": false
   },
   "outputs": [
    {
     "data": {
      "text/plain": [
       "array([[ 0.94452754,  0.7390999 ,  0.05065287, ...,  0.41421528,\n",
       "         0.10593382,  0.99541506],\n",
       "       [ 0.08739679,  0.78486269,  0.28786152, ...,  0.61987543,\n",
       "         0.56618894,  0.40003973],\n",
       "       [ 0.51400171,  0.26428237,  0.92249474, ...,  0.66389902,\n",
       "         0.28826572,  0.35699077],\n",
       "       ..., \n",
       "       [ 0.27303164,  0.84296958,  0.92314139, ...,  0.19987057,\n",
       "         0.50062501,  0.50567359],\n",
       "       [ 0.03387863,  0.30056758,  0.39560116, ...,  0.80313173,\n",
       "         0.05011935,  0.80872293],\n",
       "       [ 0.86918113,  0.23126522,  0.13078299, ...,  0.10677702,\n",
       "         0.50932745,  0.1052678 ]])"
      ]
     },
     "execution_count": 5,
     "metadata": {},
     "output_type": "execute_result"
    }
   ],
   "source": [
    "np.asarray([random.random() for _ in xrange(250000)]).reshape(500,500)"
   ]
  },
  {
   "cell_type": "code",
   "execution_count": 11,
   "metadata": {
    "collapsed": false
   },
   "outputs": [],
   "source": [
    "instances = (\n",
    "    (1, 1, 1, 1),\n",
    "    (2, 2, 2, 2),\n",
    "    (3, 3, 3, 3),\n",
    "    (2, 1, 1, 1),\n",
    "    (1, 2, 1, 1),\n",
    "    (13, 13, 13, 13)\n",
    "    )"
   ]
  },
  {
   "cell_type": "code",
   "execution_count": 13,
   "metadata": {
    "collapsed": false
   },
   "outputs": [
    {
     "data": {
      "text/plain": [
       "[[1, 1, 1, 1],\n",
       " [2, 2, 2, 2],\n",
       " [3, 3, 3, 3],\n",
       " [2, 1, 1, 1],\n",
       " [1, 2, 1, 1],\n",
       " [13, 13, 13, 13]]"
      ]
     },
     "execution_count": 13,
     "metadata": {},
     "output_type": "execute_result"
    }
   ],
   "source": [
    "[list(x) for x in instances]"
   ]
  }
 ],
 "metadata": {
  "kernelspec": {
   "display_name": "Python 2",
   "language": "python",
   "name": "python2"
  },
  "language_info": {
   "codemirror_mode": {
    "name": "ipython",
    "version": 2
   },
   "file_extension": ".py",
   "mimetype": "text/x-python",
   "name": "python",
   "nbconvert_exporter": "python",
   "pygments_lexer": "ipython2",
   "version": "2.7.10"
  }
 },
 "nbformat": 4,
 "nbformat_minor": 0
}
